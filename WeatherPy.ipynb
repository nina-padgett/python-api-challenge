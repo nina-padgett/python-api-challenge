{
 "cells": [
  {
   "cell_type": "markdown",
   "metadata": {},
   "source": [
    "# WeatherPy\n",
    "----\n",
    "\n",
    "#### Note\n",
    "* Instructions have been included for each segment. You do not have to follow them exactly, but they are included to help you think through the steps.\n",
    "\n",
    "#### Analyis\n",
    "Observed Trends\n",
    "1.  In July, maximum temperatures range higher between the 30-50 latitude marks.\n",
    "2.  In the Northern hemisphere, the maximum temperature gradually increases from the equator to about 30 degress latitude       and proceeds to decrease the further north the location. \n",
    "3.  Wind speeds slightly decrease the further north a location."
   ]
  },
  {
   "cell_type": "code",
   "execution_count": null,
   "metadata": {
    "scrolled": true
   },
   "outputs": [],
   "source": [
    "# Dependencies and Setup\n",
    "import matplotlib.pyplot as plt\n",
    "import pandas as pd\n",
    "import numpy as np\n",
    "import requests\n",
    "import time\n",
    "import json\n",
    "from scipy.stats import linregress\n",
    "\n",
    "# Import API key\n",
    "from api_keys import weather_api_key\n",
    "#weather_api_key = \"31956b2ede4a3c4f153a9f62517a8431\"\n",
    "\n",
    "# Incorporated citipy to determine city based on latitude and longitude\n",
    "from citipy import citipy\n",
    "\n",
    "# Output File (CSV)\n",
    "output_data_file = \"output_data/cities.csv\"\n",
    "\n",
    "# Range of latitudes and longitudes\n",
    "lat_range = (-90, 90)\n",
    "lng_range = (-180, 180)"
   ]
  },
  {
   "cell_type": "markdown",
   "metadata": {},
   "source": [
    "## Generate Cities List"
   ]
  },
  {
   "cell_type": "code",
   "execution_count": null,
   "metadata": {},
   "outputs": [],
   "source": [
    "# List for holding lat_lngs and cities\n",
    "lat_lngs = []\n",
    "cities = []\n",
    "city_ids = []\n",
    "\n",
    "# Create a set of random lat and lng combinations\n",
    "lats = np.random.uniform(lat_range[0], lat_range[1], size=1500)\n",
    "lngs = np.random.uniform(lng_range[0], lng_range[1], size=1500)\n",
    "lat_lngs = zip(lats, lngs)\n",
    "\n",
    "# Identify nearest city for each lat, lng combination\n",
    "for lat_lng in lat_lngs:\n",
    "    city = citipy.nearest_city(lat_lng[0], lat_lng[1]).city_name\n",
    "    \n",
    "    # If the city is unique, then add it to a our cities list\n",
    "    if city not in cities:\n",
    "        cities.append(city)\n",
    "\n",
    "# Print the city count to confirm sufficient count\n",
    "len(cities)"
   ]
  },
  {
   "cell_type": "markdown",
   "metadata": {},
   "source": [
    "### Perform API Calls\n",
    "* Perform a weather check on each city using a series of successive API calls.\n",
    "* Include a print log of each city as it'sbeing processed (with the city number and city name).\n"
   ]
  },
  {
   "cell_type": "code",
   "execution_count": null,
   "metadata": {
    "scrolled": true
   },
   "outputs": [],
   "source": [
    "# Base URL and imperial units\n",
    "url = \"http://api.openweathermap.org/data/2.5/weather?units=Imperial&APPID=\" + weather_api_key"
   ]
  },
  {
   "cell_type": "code",
   "execution_count": null,
   "metadata": {},
   "outputs": [],
   "source": [
    "# City data\n",
    "# CAUTION: This cell takes about 15 minutes to run.\n",
    "\n",
    "# List of city data\n",
    "city_data = []\n",
    "\n",
    "# Print to logger\n",
    "print(\"Beginning Data Retrieval     \")\n",
    "print(\"-----------------------------\")\n",
    "\n",
    "# Create counters\n",
    "record_count = 1\n",
    "set_count = 1\n",
    "\n",
    "# Loop through all the cities in our list\n",
    "for i, city in enumerate(cities):\n",
    "        \n",
    "    # Group cities in sets of 50 for logging purposes\n",
    "    if (i % 50 == 0 and i >= 50):\n",
    "        set_count += 1\n",
    "        record_count = 1\n",
    "        time.sleep(60)\n",
    "\n",
    "    # Create endpoint URL with each city\n",
    "    city_url = url + \"&q=\" + city.replace(\" \",\"+\")\n",
    "    \n",
    "    # Log the url, record, and set numbers\n",
    "    print(f\"Processing Record {record_count} of Set {set_count} | {city}\")\n",
    "\n",
    "    # Add 1 to the record count\n",
    "    record_count += 1\n",
    "\n",
    "    # Run an API request for each of the cities\n",
    "    try:\n",
    "        city_weather = requests.get(city_url).json()\n",
    "        # Parse out the max temp, humidity, and cloudiness\n",
    "        city_lat = city_weather[\"coord\"][\"lat\"]\n",
    "        city_lng = city_weather[\"coord\"][\"lon\"]\n",
    "        city_max_temp = city_weather[\"main\"][\"temp_max\"]\n",
    "        city_humidity = city_weather[\"main\"][\"humidity\"]\n",
    "        city_clouds = city_weather[\"clouds\"][\"all\"]\n",
    "        city_wind = city_weather[\"wind\"][\"speed\"]\n",
    "        city_country = city_weather[\"sys\"][\"country\"]\n",
    "        city_date = city_weather[\"dt\"]\n",
    "            \n",
    "        # Append the City information into city_data list\n",
    "        city_data.append({\"City\": city.title(), \n",
    "                          \"Lat\": city_lat, \n",
    "                          \"Lng\": city_lng, \n",
    "                          \"Max Temp\": city_max_temp,\n",
    "                          \"Humidity\": city_humidity,\n",
    "                          \"Cloudiness\": city_clouds,\n",
    "                          \"Wind Speed\": city_wind,\n",
    "                          \"Country\": city_country,\n",
    "                          \"Date\": city_date})\n",
    "    # If an error is experienced, skip the city\n",
    "\n",
    "    except:\n",
    "        print(\"City not found. Skipping...\")\n",
    "        pass\n",
    "\n",
    "# Indicate that Data Loading is complete \n",
    "print(\"-----------------------------\")\n",
    "print(\"Data Retrieval Complete      \")\n",
    "print(\"-----------------------------\")"
   ]
  },
  {
   "cell_type": "markdown",
   "metadata": {},
   "source": [
    "### Convert Raw Data to DataFrame\n",
    "* Export the city data into a .csv.\n",
    "* Display the DataFrame"
   ]
  },
  {
   "cell_type": "code",
   "execution_count": null,
   "metadata": {},
   "outputs": [],
   "source": [
    "# Create city data dataframe and export to .csv file\n",
    "city_data_df = pd.DataFrame(city_data)\n",
    "city_data_df.to_csv(\"city_data.csv\")\n",
    "city_data_df"
   ]
  },
  {
   "cell_type": "code",
   "execution_count": null,
   "metadata": {},
   "outputs": [],
   "source": [
    "city_data_df.describe()"
   ]
  },
  {
   "cell_type": "markdown",
   "metadata": {},
   "source": [
    "## Inspect the data and remove the cities where the humidity > 100%.\n",
    "----\n",
    "Skip this step if there are no cities that have humidity > 100%. "
   ]
  },
  {
   "cell_type": "code",
   "execution_count": null,
   "metadata": {},
   "outputs": [],
   "source": [
    "# The described dataframe displays the max humidity at 100%,\n",
    "# so this step should be skipped."
   ]
  },
  {
   "cell_type": "markdown",
   "metadata": {},
   "source": [
    "## Plotting the Data\n",
    "* Use proper labeling of the plots using plot titles (including date of analysis) and axes labels.\n",
    "* Save the plotted figures as .pngs in the output_data folder\n",
    "* Below are examples of what you should get but your results will be different."
   ]
  },
  {
   "cell_type": "markdown",
   "metadata": {},
   "source": [
    "## Latitude vs. Temperature Plot"
   ]
  },
  {
   "cell_type": "code",
   "execution_count": null,
   "metadata": {
    "scrolled": false
   },
   "outputs": [],
   "source": [
    "# Build scatter plot for each data type\n",
    "plt.figure(figsize=(6,4))\n",
    "x_values = city_data_df[\"Lat\"]\n",
    "y_values = city_data_df[\"Max Temp\"]\n",
    "\n",
    "# Create plot:\n",
    "plt.scatter(x_values,y_values, marker='o', color=\"blue\", s=[70], edgecolors=\"black\")\n",
    "#plt.plot(x_values,regress_values,'darkred', linewidth=2)\n",
    "\n",
    "# Incorporate the other graph properties:\n",
    "plt.title(\"City Latitude vs. Max Temperature (07/24/22)\", fontsize=10)\n",
    "plt.ylabel(\"Max Temperature (F)\", fontsize=10, color=\"black\")\n",
    "plt.xlabel(\"Latitude\", fontsize=10, color=\"black\")\n",
    "plt.grid(True)\n",
    "\n",
    "# Save the figure:\n",
    "plt.savefig('output_data/Latitude vs. Max Temperature.png')\n",
    "\n",
    "plt.show()"
   ]
  },
  {
   "cell_type": "markdown",
   "metadata": {},
   "source": [
    "#### The above plot is displaying the max temperature of different latitudes. Max temperatures are displaying higher from 30-50 latitude. "
   ]
  },
  {
   "cell_type": "markdown",
   "metadata": {},
   "source": [
    "## Latitude vs. Humidity Plot"
   ]
  },
  {
   "cell_type": "code",
   "execution_count": null,
   "metadata": {},
   "outputs": [],
   "source": [
    "# Build scatter plot for each data type\n",
    "plt.figure(figsize=(6,4))\n",
    "x_values = city_data_df[\"Lat\"]\n",
    "y_values = city_data_df[\"Humidity\"]\n",
    "\n",
    "# Create plot:\n",
    "plt.scatter(x_values,y_values, marker='o', color=\"blue\", s=[70], edgecolors=\"black\")\n",
    "#plt.plot(x_values,regress_values,'darkred', linewidth=2)\n",
    "\n",
    "# Incorporate the other graph properties:\n",
    "plt.title(\"City Latitude vs. Humidity (07/30/22)\", fontsize=10)\n",
    "plt.ylabel(\"Humidity (%)\", fontsize=10, color=\"black\")\n",
    "plt.xlabel(\"Latitude\", fontsize=10, color=\"black\")\n",
    "plt.grid(True)\n",
    "\n",
    "# Save the figure:\n",
    "plt.savefig('output_data/Latitude vs. Humidity.png')\n",
    "\n",
    "plt.show()"
   ]
  },
  {
   "cell_type": "markdown",
   "metadata": {},
   "source": [
    "#### The above plot is displaying the humidity of different latitudes. Humidity levels vary across latitudes. There is no correlation between the two variables."
   ]
  },
  {
   "cell_type": "markdown",
   "metadata": {},
   "source": [
    "## Latitude vs. Cloudiness Plot"
   ]
  },
  {
   "cell_type": "code",
   "execution_count": null,
   "metadata": {},
   "outputs": [],
   "source": [
    "# Build scatter plot for each data type\n",
    "plt.figure(figsize=(6,4))\n",
    "x_values = city_data_df[\"Lat\"]\n",
    "y_values = city_data_df[\"Cloudiness\"]\n",
    "\n",
    "# Create plot:\n",
    "plt.scatter(x_values,y_values, marker='o', color=\"blue\", s=[70], edgecolors=\"black\")\n",
    "#plt.plot(x_values,regress_values,'darkred', linewidth=2)\n",
    "\n",
    "# Incorporate the other graph properties:\n",
    "plt.title(\"City Latitude vs. Cloudiness (07/30/22)\", fontsize=10)\n",
    "plt.ylabel(\"Cloudiness %\", fontsize=10, color=\"black\")\n",
    "plt.xlabel(\"Latitude\", fontsize=10, color=\"black\")\n",
    "plt.grid(True)\n",
    "\n",
    "# Save the figure:\n",
    "plt.savefig('output_data/Latitude vs. Cloudiness.png')\n",
    "\n",
    "plt.show()"
   ]
  },
  {
   "cell_type": "markdown",
   "metadata": {},
   "source": [
    "#### The above plot is displaying cloudiness of different latitudes. Clouds vary across latitudes and are not dependent on latitude location."
   ]
  },
  {
   "cell_type": "markdown",
   "metadata": {},
   "source": [
    "## Latitude vs. Wind Speed Plot"
   ]
  },
  {
   "cell_type": "code",
   "execution_count": null,
   "metadata": {},
   "outputs": [],
   "source": [
    "# Build scatter plot for each data type\n",
    "plt.figure(figsize=(6,4))\n",
    "x_values = city_data_df[\"Lat\"]\n",
    "y_values = city_data_df[\"Wind Speed\"]\n",
    "\n",
    "# Create plot:\n",
    "plt.scatter(x_values,y_values, marker='o', color=\"blue\", s=[70], edgecolors=\"black\")\n",
    "\n",
    "# Incorporate the other graph properties:\n",
    "plt.title(\"City Latitude vs. Wind Speed (07/24/22)\", fontsize=10)\n",
    "plt.ylabel(\"Wind Speed (mph)\", fontsize=10, color=\"black\")\n",
    "plt.xlabel(\"Latitude\", fontsize=10, color=\"black\")\n",
    "plt.grid(True)\n",
    "\n",
    "# Save the figure:\n",
    "plt.savefig('output_data/Latitude vs. Wind Speed.png')\n",
    "\n",
    "plt.show()"
   ]
  },
  {
   "cell_type": "markdown",
   "metadata": {},
   "source": [
    "#### The above plot is displaying wind speed of different latitudes. Wind speeds vary across latitudes and are not dependent on latitude location."
   ]
  },
  {
   "cell_type": "markdown",
   "metadata": {},
   "source": [
    "## Linear Regression"
   ]
  },
  {
   "cell_type": "markdown",
   "metadata": {},
   "source": [
    "####  Northern Hemisphere - Max Temp vs. Latitude Linear Regression"
   ]
  },
  {
   "cell_type": "code",
   "execution_count": null,
   "metadata": {},
   "outputs": [],
   "source": [
    "# Find cities located in the Northern Hemisphere\n",
    "northern_hemisphere_df = city_data_df.loc[(city_data_df[\"Lat\"]>0)]\n",
    "northern_hemisphere_df"
   ]
  },
  {
   "cell_type": "code",
   "execution_count": null,
   "metadata": {},
   "outputs": [],
   "source": [
    "# Northern Hemisphere - Max Temp vs. Latitude Linear Regression\n",
    "plt.figure(figsize=(6,4))\n",
    "x_values = northern_hemisphere_df[\"Lat\"]\n",
    "y_values = northern_hemisphere_df[\"Max Temp\"]\n",
    "\n",
    "# Perform a linear regression on Max Temp vs. latitude\n",
    "(slope, intercept, rvalue, pvalue, stderr) = linregress(x_values, y_values)\n",
    "\n",
    "# Regression values\n",
    "regress_values = x_values * slope + intercept\n",
    "\n",
    "# Create line equation string\n",
    "line_equation = \"y = \" + str(round(slope,2)) + \"x + \" + str(round(intercept,2))\n",
    "\n",
    "# Create plot\n",
    "plt.scatter(x_values, y_values, marker=\"o\", color=\"blue\", s=[60], edgecolors=\"black\")\n",
    "plt.plot(x_values, regress_values,\"red\", linewidth=2)\n",
    "\n",
    "# Additional graph properties\n",
    "plt.xlabel(\"Latitude\", fontsize=10, color=\"black\")\n",
    "plt.ylabel(\"Max Temp\", fontsize=10, color=\"black\")\n",
    "#plt.annotate(line_equation,(15,8.000000e+04), fontsize=10, color=\"red\")\n",
    "#plt.ticklabel_format(style=\"plain\")\n",
    "\n",
    "# Print r-squared value:\n",
    "print(f\"The r-value is: {rvalue}\")\n",
    "\n",
    "# Save the figure:\n",
    "plt.savefig('output_data/Northern Hemisphere - Latitude vs. Max Temp.png')\n",
    "\n",
    "# Show plot:\n",
    "plt.show()"
   ]
  },
  {
   "cell_type": "markdown",
   "metadata": {},
   "source": [
    "#### Now, the above plot is only displaying maximum temperature of different latitudes in the northern hemisphere. The maximum temperature gradually increases from the equator to about 30 degress latitude and proceeds to decrease the further north the location. "
   ]
  },
  {
   "cell_type": "code",
   "execution_count": null,
   "metadata": {},
   "outputs": [],
   "source": [
    "# Create dataframe for cities in the southern hemisphere\n",
    "southern_hemisphere_df = city_data_df.loc[(city_data_df[\"Lat\"]<0)]\n",
    "southern_hemisphere_df"
   ]
  },
  {
   "cell_type": "markdown",
   "metadata": {},
   "source": [
    "####  Southern Hemisphere - Max Temp vs. Latitude Linear Regression"
   ]
  },
  {
   "cell_type": "code",
   "execution_count": null,
   "metadata": {},
   "outputs": [],
   "source": [
    "# Southern Hemisphere: Max Temp vs. Latitude Linear Regression\n",
    "plt.figure(figsize=(6,4))\n",
    "x_values = southern_hemisphere_df[\"Lat\"]\n",
    "y_values = southern_hemisphere_df[\"Max Temp\"]\n",
    "\n",
    "# Perform a linear regression on Max Temp vs. latitude\n",
    "(slope, intercept, rvalue, pvalue, stderr) = linregress(x_values, y_values)\n",
    "\n",
    "# Regression values\n",
    "regress_values = x_values * slope + intercept\n",
    "\n",
    "# Create line equation string\n",
    "line_equation = \"y = \" + str(round(slope,2)) + \"x + \" + str(round(intercept,2))\n",
    "\n",
    "# Create plot\n",
    "plt.scatter(x_values, y_values, marker=\"o\", color=\"blue\", s=[60], edgecolors=\"black\")\n",
    "plt.plot(x_values, regress_values,\"red\", linewidth=2)\n",
    "\n",
    "# Additional graph properties\n",
    "plt.xlabel(\"Latitude\", fontsize=10, color=\"black\")\n",
    "plt.ylabel(\"Max Temp\", fontsize=10, color=\"black\")\n",
    "#plt.annotate(line_equation,(15,8.000000e+04), fontsize=10, color=\"red\")\n",
    "#plt.ticklabel_format(style=\"plain\")\n",
    "\n",
    "# Print r-squared value:\n",
    "print(f\"The r-value is: {rvalue}\")\n",
    "\n",
    "# Save the figure:\n",
    "plt.savefig('output_data/Southern Hemisphere - Latitude vs. Max Temp.png')\n",
    "\n",
    "# Show plot:\n",
    "plt.show()"
   ]
  },
  {
   "cell_type": "markdown",
   "metadata": {},
   "source": [
    "#### Now, this plot above is displaying the maximum temperature of different latitudes in the southern hemisphere. The maximum temperature consistently increases the further north the location."
   ]
  },
  {
   "cell_type": "markdown",
   "metadata": {},
   "source": [
    "####  Northern Hemisphere - Humidity (%) vs. Latitude Linear Regression"
   ]
  },
  {
   "cell_type": "code",
   "execution_count": null,
   "metadata": {},
   "outputs": [],
   "source": [
    "# Northern Hemisphere - Humidity(%) vs. Latitude Linear Regression\n",
    "plt.figure(figsize=(6,4))\n",
    "x_values = northern_hemisphere_df[\"Lat\"]\n",
    "y_values = northern_hemisphere_df[\"Humidity\"]\n",
    "\n",
    "# Perform a linear regression on Max Temp vs. latitude\n",
    "(slope, intercept, rvalue, pvalue, stderr) = linregress(x_values, y_values)\n",
    "\n",
    "# Regression values\n",
    "regress_values = x_values * slope + intercept\n",
    "\n",
    "# Create line equation string\n",
    "line_equation = \"y = \" + str(round(slope,2)) + \"x + \" + str(round(intercept,2))\n",
    "\n",
    "# Create plot\n",
    "plt.scatter(x_values, y_values, marker=\"o\", color=\"blue\", s=[60], edgecolors=\"black\")\n",
    "plt.plot(x_values, regress_values,\"red\", linewidth=2)\n",
    "\n",
    "# Additional graph properties\n",
    "plt.xlabel(\"Latitude\", fontsize=10, color=\"black\")\n",
    "plt.ylabel(\"Humidity\", fontsize=10, color=\"black\")\n",
    "#plt.annotate(line_equation,(15,8.000000e+04), fontsize=10, color=\"red\")\n",
    "#plt.ticklabel_format(style=\"plain\")\n",
    "\n",
    "# Print r-squared value:\n",
    "print(f\"The r-value is: {rvalue}\")\n",
    "\n",
    "# Save the figure:\n",
    "plt.savefig('output_data/Northern Hemisphere - Latitude vs. Humidity.png')\n",
    "\n",
    "# Show plot:\n",
    "plt.show()"
   ]
  },
  {
   "cell_type": "markdown",
   "metadata": {},
   "source": [
    "#### The above plot is displaying humidity of different latitudes in the northern hemisphere. It shows us that there is no relationship between humidity and location in the northern hemisphere."
   ]
  },
  {
   "cell_type": "markdown",
   "metadata": {},
   "source": [
    "####  Southern Hemisphere - Humidity (%) vs. Latitude Linear Regression"
   ]
  },
  {
   "cell_type": "code",
   "execution_count": null,
   "metadata": {},
   "outputs": [],
   "source": [
    "# Southern Hemisphere: Humidity(%) vs. Latitude Linear Regression\n",
    "plt.figure(figsize=(6,4))\n",
    "x_values = southern_hemisphere_df[\"Lat\"]\n",
    "y_values = southern_hemisphere_df[\"Max Temp\"]\n",
    "\n",
    "# Perform a linear regression on Max Temp vs. latitude\n",
    "(slope, intercept, rvalue, pvalue, stderr) = linregress(x_values, y_values)\n",
    "\n",
    "# Regression values\n",
    "regress_values = x_values * slope + intercept\n",
    "\n",
    "# Create line equation string\n",
    "line_equation = \"y = \" + str(round(slope,2)) + \"x + \" + str(round(intercept,2))\n",
    "\n",
    "# Create plot\n",
    "plt.scatter(x_values, y_values, marker=\"o\", color=\"blue\", s=[60], edgecolors=\"black\")\n",
    "plt.plot(x_values, regress_values,\"red\", linewidth=2)\n",
    "\n",
    "# Additional graph properties\n",
    "plt.xlabel(\"Latitude\", fontsize=10, color=\"black\")\n",
    "plt.ylabel(\"Humidity\", fontsize=10, color=\"black\")\n",
    "#plt.annotate(line_equation,(15,8.000000e+04), fontsize=10, color=\"red\")\n",
    "#plt.ticklabel_format(style=\"plain\")\n",
    "\n",
    "# Print r-squared value:\n",
    "print(f\"The r-value is: {rvalue}\")\n",
    "\n",
    "# Save the figure:\n",
    "plt.savefig('output_data/Southern Hemisphere - Latitude vs. Humidity.png')\n",
    "\n",
    "# Show plot:\n",
    "plt.show()"
   ]
  },
  {
   "cell_type": "markdown",
   "metadata": {},
   "source": [
    "#### The above plot is displaying humidity of different latitudes in the southern hemisphere. Oddly, it shows us that there is a relationship between humidity and location. Humidity increases the closer one gets to the equator."
   ]
  },
  {
   "cell_type": "markdown",
   "metadata": {},
   "source": [
    "####  Northern Hemisphere - Cloudiness (%) vs. Latitude Linear Regression"
   ]
  },
  {
   "cell_type": "code",
   "execution_count": null,
   "metadata": {},
   "outputs": [],
   "source": [
    "# Northern Hemisphere - Cloudiness(%) vs. Latitude Linear Regression\n",
    "plt.figure(figsize=(6,4))\n",
    "x_values = northern_hemisphere_df[\"Lat\"]\n",
    "y_values = northern_hemisphere_df[\"Cloudiness\"]\n",
    "\n",
    "# Perform a linear regression on Max Temp vs. latitude\n",
    "(slope, intercept, rvalue, pvalue, stderr) = linregress(x_values, y_values)\n",
    "\n",
    "# Regression values\n",
    "regress_values = x_values * slope + intercept\n",
    "\n",
    "# Create line equation string\n",
    "line_equation = \"y = \" + str(round(slope,2)) + \"x + \" + str(round(intercept,2))\n",
    "\n",
    "# Create plot\n",
    "plt.scatter(x_values, y_values, marker=\"o\", color=\"blue\", s=[60], edgecolors=\"black\")\n",
    "plt.plot(x_values, regress_values,\"red\", linewidth=2)\n",
    "\n",
    "# Additional graph properties\n",
    "plt.xlabel(\"Latitude\", fontsize=10, color=\"black\")\n",
    "plt.ylabel(\"Cloudiness\", fontsize=10, color=\"black\")\n",
    "#plt.annotate(line_equation,(15,8.000000e+04), fontsize=10, color=\"red\")\n",
    "#plt.ticklabel_format(style=\"plain\")\n",
    "\n",
    "# Print r-squared value:\n",
    "print(f\"The r-value is: {rvalue}\")\n",
    "\n",
    "# Save the figure:\n",
    "plt.savefig('output_data/Northern Hemisphere - Latitude vs. Cloudiness.png')\n",
    "\n",
    "# Show plot:\n",
    "plt.show()"
   ]
  },
  {
   "cell_type": "markdown",
   "metadata": {},
   "source": [
    "#### The above plot is displaying the cloudiness of different latitudes in the northern hemisphere. It shows us that there is no relationship between cloudiness and location in the northern hemisphere."
   ]
  },
  {
   "cell_type": "markdown",
   "metadata": {},
   "source": [
    "####  Southern Hemisphere - Cloudiness (%) vs. Latitude Linear Regression"
   ]
  },
  {
   "cell_type": "code",
   "execution_count": null,
   "metadata": {},
   "outputs": [],
   "source": [
    "# Southern Hemisphere: Cloudiness(%) vs. Latitude Linear Regression\n",
    "plt.figure(figsize=(6,4))\n",
    "x_values = southern_hemisphere_df[\"Lat\"]\n",
    "y_values = southern_hemisphere_df[\"Cloudiness\"]\n",
    "\n",
    "# Perform a linear regression on Max Temp vs. latitude\n",
    "(slope, intercept, rvalue, pvalue, stderr) = linregress(x_values, y_values)\n",
    "\n",
    "# Regression values\n",
    "regress_values = x_values * slope + intercept\n",
    "\n",
    "# Create line equation string\n",
    "line_equation = \"y = \" + str(round(slope,2)) + \"x + \" + str(round(intercept,2))\n",
    "\n",
    "# Create plot\n",
    "plt.scatter(x_values, y_values, marker=\"o\", color=\"blue\", s=[60], edgecolors=\"black\")\n",
    "plt.plot(x_values, regress_values,\"red\", linewidth=2)\n",
    "\n",
    "# Additional graph properties\n",
    "plt.xlabel(\"Latitude\", fontsize=10, color=\"black\")\n",
    "plt.ylabel(\"Cloudiness\", fontsize=10, color=\"black\")\n",
    "#plt.annotate(line_equation,(15,8.000000e+04), fontsize=10, color=\"red\")\n",
    "#plt.ticklabel_format(style=\"plain\")\n",
    "\n",
    "# Print r-squared value:\n",
    "print(f\"The r-value is: {rvalue}\")\n",
    "\n",
    "# Save the figure:\n",
    "plt.savefig('output_data/Southern Hemisphere - Latitude vs. Cloudiness.png')\n",
    "\n",
    "# Show plot:\n",
    "plt.show()"
   ]
  },
  {
   "cell_type": "markdown",
   "metadata": {},
   "source": [
    "#### The above plot is displaying the cloudiness of different latitudes in the southern hemisphere. It shows us that there is no relationship between cloudiness and location."
   ]
  },
  {
   "cell_type": "markdown",
   "metadata": {},
   "source": [
    "####  Northern Hemisphere - Wind Speed (mph) vs. Latitude Linear Regression"
   ]
  },
  {
   "cell_type": "code",
   "execution_count": null,
   "metadata": {},
   "outputs": [],
   "source": [
    "# Northern Hemisphere - Cloudiness(%) vs. Latitude Linear Regression\n",
    "plt.figure(figsize=(6,4))\n",
    "x_values = northern_hemisphere_df[\"Lat\"]\n",
    "y_values = northern_hemisphere_df[\"Wind Speed\"]\n",
    "\n",
    "# Perform a linear regression on Max Temp vs. latitude\n",
    "(slope, intercept, rvalue, pvalue, stderr) = linregress(x_values, y_values)\n",
    "\n",
    "# Regression values\n",
    "regress_values = x_values * slope + intercept\n",
    "\n",
    "# Create line equation string\n",
    "line_equation = \"y = \" + str(round(slope,2)) + \"x + \" + str(round(intercept,2))\n",
    "\n",
    "# Create plot\n",
    "plt.scatter(x_values, y_values, marker=\"o\", color=\"blue\", s=[60], edgecolors=\"black\")\n",
    "plt.plot(x_values, regress_values,\"red\", linewidth=2)\n",
    "\n",
    "# Additional graph properties\n",
    "plt.xlabel(\"Latitude\", fontsize=10, color=\"black\")\n",
    "plt.ylabel(\"Wind Speed\", fontsize=10, color=\"black\")\n",
    "#plt.annotate(line_equation,(15,8.000000e+04), fontsize=10, color=\"red\")\n",
    "#plt.ticklabel_format(style=\"plain\")\n",
    "\n",
    "# Print r-squared value:\n",
    "print(f\"The r-value is: {rvalue}\")\n",
    "\n",
    "# Save the figure:\n",
    "plt.savefig('output_data/Northern Hemisphere - Latitude vs. Wind Speed.png')\n",
    "\n",
    "# Show plot:\n",
    "plt.show()"
   ]
  },
  {
   "cell_type": "markdown",
   "metadata": {},
   "source": [
    "#### The above plot is displaying the wind speed of different latitudes in the northern hemisphere. Wind speeds vary greatly throughout locations with no significant relationship between humidity and location."
   ]
  },
  {
   "cell_type": "markdown",
   "metadata": {},
   "source": [
    "####  Southern Hemisphere - Wind Speed (mph) vs. Latitude Linear Regression"
   ]
  },
  {
   "cell_type": "code",
   "execution_count": null,
   "metadata": {},
   "outputs": [],
   "source": [
    "# Southern Hemisphere: Wind Speed vs. Latitude Linear Regression\n",
    "plt.figure(figsize=(6,4))\n",
    "x_values = southern_hemisphere_df[\"Lat\"]\n",
    "y_values = southern_hemisphere_df[\"Wind Speed\"]\n",
    "\n",
    "# Perform a linear regression on Max Temp vs. latitude\n",
    "(slope, intercept, rvalue, pvalue, stderr) = linregress(x_values, y_values)\n",
    "\n",
    "# Regression values\n",
    "regress_values = x_values * slope + intercept\n",
    "\n",
    "# Create line equation string\n",
    "line_equation = \"y = \" + str(round(slope,2)) + \"x + \" + str(round(intercept,2))\n",
    "\n",
    "# Create plot\n",
    "plt.scatter(x_values, y_values, marker=\"o\", color=\"blue\", s=[60], edgecolors=\"black\")\n",
    "plt.plot(x_values, regress_values,\"red\", linewidth=2)\n",
    "\n",
    "# Additional graph properties\n",
    "plt.xlabel(\"Latitude\", fontsize=10, color=\"black\")\n",
    "plt.ylabel(\"Wind Speed\", fontsize=10, color=\"black\")\n",
    "#plt.annotate(line_equation,(15,8.000000e+04), fontsize=10, color=\"red\")\n",
    "#plt.ticklabel_format(style=\"plain\")\n",
    "\n",
    "# Print r-squared value:\n",
    "print(f\"The r-value is: {rvalue}\")\n",
    "\n",
    "# Save the figure:\n",
    "plt.savefig('output_data/Southern Hemisphere - Latitude vs. Wind Speed.png')\n",
    "\n",
    "# Show plot:\n",
    "plt.show()"
   ]
  },
  {
   "cell_type": "markdown",
   "metadata": {},
   "source": [
    "#### The above plot is displaying wind speed of different latitudes in the southern hemisphere. Wind speeds here also vary greatly throughout locations with no significant relationship between humidity and location."
   ]
  }
 ],
 "metadata": {
  "anaconda-cloud": {},
  "kernel_info": {
   "name": "python3"
  },
  "kernelspec": {
   "display_name": "Python [conda env:PythonData38] *",
   "language": "python",
   "name": "conda-env-PythonData38-py"
  },
  "language_info": {
   "codemirror_mode": {
    "name": "ipython",
    "version": 3
   },
   "file_extension": ".py",
   "mimetype": "text/x-python",
   "name": "python",
   "nbconvert_exporter": "python",
   "pygments_lexer": "ipython3",
   "version": "3.8.12"
  },
  "latex_envs": {
   "LaTeX_envs_menu_present": true,
   "autoclose": false,
   "autocomplete": true,
   "bibliofile": "biblio.bib",
   "cite_by": "apalike",
   "current_citInitial": 1,
   "eqLabelWithNumbers": true,
   "eqNumInitial": 1,
   "hotkeys": {
    "equation": "Ctrl-E",
    "itemize": "Ctrl-I"
   },
   "labels_anchors": false,
   "latex_user_defs": false,
   "report_style_numbering": false,
   "user_envs_cfg": false
  },
  "nteract": {
   "version": "0.12.3"
  }
 },
 "nbformat": 4,
 "nbformat_minor": 2
}
